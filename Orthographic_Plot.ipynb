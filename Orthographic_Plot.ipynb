{
 "cells": [
  {
   "cell_type": "code",
   "execution_count": 1,
   "id": "1f0a0e31",
   "metadata": {},
   "outputs": [],
   "source": [
    "import numpy as np\n",
    "import cv2\n",
    "from geographiclib.geodesic import Geodesic\n",
    "from mpl_toolkits.basemap import Basemap\n",
    "import matplotlib.pyplot as plt\n",
    "import time"
   ]
  },
  {
   "cell_type": "code",
   "execution_count": null,
   "id": "1d87940f",
   "metadata": {},
   "outputs": [],
   "source": [
    "# To get the current time\n",
    "\n",
    "start=time.time()\n",
    "print(\"Ploting Starts\")\n",
    "plt.figure(figsize=(100,100))\n",
    "\n",
    "# Create a Basemap instance and define the map projection\n",
    "\n",
    "# here lat_0 and lon_0 are the centre of orthographic projection\n",
    "\n",
    "m = Basemap(projection='ortho',lat_0=0,lon_0=0)\n",
    "\n",
    "#arr is generated from make_coorarr() function of stitches.py\n",
    "\n",
    "arr = coordinate_array \n",
    "h,w,z= arr.shape\n",
    "img = cv2.imread(\"path to png image you want to plot on orthographic projection\")\n",
    "imgarray = img[:,:,1]\n",
    "\n",
    "for i in range(0,w,1):\n",
    "    \n",
    "    # Convert the latitude and longitude points to the x,y coordinates on the map\n",
    "    \n",
    "    x, y = m(arr[:,i,1], arr[:,i,0])\n",
    "    \n",
    "    # Ploting each pixel on the scatter plot\n",
    "    \n",
    "    m.scatter(x, y,c=imgarray[:,i] , marker='o', zorder=5, cmap=plt.cm.gray)\n",
    "\n",
    "m.drawmeridians(range(-180,180,30))\n",
    "m.drawparallels(range(-90,90,30))\n",
    "plt.show()\n",
    "\n",
    "# For calculating the total time taken for each file to plot on orthographic projection\n",
    "\n",
    "print(time.time()-start)\n",
    "\n"
   ]
  }
 ],
 "metadata": {
  "kernelspec": {
   "display_name": "Python 3 (ipykernel)",
   "language": "python",
   "name": "python3"
  },
  "language_info": {
   "codemirror_mode": {
    "name": "ipython",
    "version": 3
   },
   "file_extension": ".py",
   "mimetype": "text/x-python",
   "name": "python",
   "nbconvert_exporter": "python",
   "pygments_lexer": "ipython3",
   "version": "3.9.12"
  }
 },
 "nbformat": 4,
 "nbformat_minor": 5
}
